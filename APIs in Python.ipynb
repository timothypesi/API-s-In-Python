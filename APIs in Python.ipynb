{
 "cells": [
  {
   "attachments": {},
   "cell_type": "markdown",
   "metadata": {},
   "source": [
    "### Examples of fetching data from APIs in Python\n",
    "\n",
    "1 . Fetching data from a RESTful API using the requests library:\n"
   ]
  },
  {
   "cell_type": "code",
   "execution_count": null,
   "metadata": {},
   "outputs": [],
   "source": [
    "import requests\n",
    "\n",
    "response = requests.get('https://api.example.com/data')\n",
    "data = response.json()\n",
    "print(data)"
   ]
  },
  {
   "attachments": {},
   "cell_type": "markdown",
   "metadata": {},
   "source": [
    "2 . Fetching data from a GraphQL API using the requests library and GraphQL query language:"
   ]
  },
  {
   "cell_type": "code",
   "execution_count": null,
   "metadata": {},
   "outputs": [],
   "source": [
    "import requests\n",
    "\n",
    "query = '''\n",
    "  query {\n",
    "    user(id: \"123\") {\n",
    "      name\n",
    "      email\n",
    "      age\n",
    "    }\n",
    "  }\n",
    "'''\n",
    "\n",
    "response = requests.post('https://api.example.com/graphql', json={'query': query})\n",
    "data = response.json()\n",
    "print(data)\n"
   ]
  },
  {
   "attachments": {},
   "cell_type": "markdown",
   "metadata": {},
   "source": [
    "3 . Fetching data from a Twitter API using the tweepy library:"
   ]
  },
  {
   "cell_type": "code",
   "execution_count": null,
   "metadata": {},
   "outputs": [],
   "source": [
    "import tweepy\n",
    "\n",
    "consumer_key = 'your_consumer_key'\n",
    "consumer_secret = 'your_consumer_secret'\n",
    "access_token = 'your_access_token'\n",
    "access_token_secret = 'your_access_token_secret'\n",
    "\n",
    "auth = tweepy.OAuthHandler(consumer_key, consumer_secret)\n",
    "auth.set_access_token(access_token, access_token_secret)\n",
    "\n",
    "api = tweepy.API(auth)\n",
    "tweets = api.user_timeline(screen_name='example', count=10)\n",
    "for tweet in tweets:\n",
    "    print(tweet.text)\n"
   ]
  },
  {
   "attachments": {},
   "cell_type": "markdown",
   "metadata": {},
   "source": [
    "4 . Fetching data from a weather API using the pyowm library:"
   ]
  },
  {
   "cell_type": "code",
   "execution_count": null,
   "metadata": {},
   "outputs": [],
   "source": [
    "import pyowm\n",
    "\n",
    "owm = pyowm.OWM('your_api_key')\n",
    "observation = owm.weather_at_place('London,UK')\n",
    "weather = observation.get_weather()\n",
    "print(weather.get_temperature('celsius'))"
   ]
  },
  {
   "attachments": {},
   "cell_type": "markdown",
   "metadata": {},
   "source": [
    "5 . Fetching data from a GitHub API using the PyGithub library:"
   ]
  },
  {
   "cell_type": "code",
   "execution_count": null,
   "metadata": {},
   "outputs": [],
   "source": [
    "from github import Github\n",
    "\n",
    "g = Github('your_access_token')\n",
    "repo = g.get_repo('example/repo')\n",
    "issues = repo.get_issues(state='open')\n",
    "for issue in issues:\n",
    "    print(issue.title)"
   ]
  }
 ],
 "metadata": {
  "kernelspec": {
   "display_name": "base",
   "language": "python",
   "name": "python3"
  },
  "language_info": {
   "name": "python",
   "version": "3.9.7"
  },
  "orig_nbformat": 4
 },
 "nbformat": 4,
 "nbformat_minor": 2
}

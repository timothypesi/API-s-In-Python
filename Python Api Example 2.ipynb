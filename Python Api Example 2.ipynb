{
 "cells": [
  {
   "attachments": {},
   "cell_type": "markdown",
   "metadata": {},
   "source": [
    "With this code we fetche the data from each URL and filters it for the date range, and instead use vectorized operations to apply the filtering to all URLs at once."
   ]
  },
  {
   "cell_type": "code",
   "execution_count": null,
   "metadata": {},
   "outputs": [],
   "source": [
    "import requests\n",
    "import pandas as pd\n",
    "\n",
    "# Set authentication credentials\n",
    "username = 'your_username'\n",
    "password = 'your_password'\n",
    "\n",
    "# Set date range\n",
    "start_date = '2022-01-01'\n",
    "end_date = '2022-01-31'\n",
    "\n",
    "# Define list of URLs to fetch data from\n",
    "urls = [\n",
    "    'https://api.example.com/data1',\n",
    "    'https://api.example.com/data2',\n",
    "    'https://api.example.com/data3'\n",
    "]\n",
    "\n",
    "# Initialize empty list to store fetched data\n",
    "data_list = []\n",
    "\n",
    "# Fetch data from all URLs and filter for date range\n",
    "for url in urls:\n",
    "    response = requests.get(url, auth=(username, password))\n",
    "    data = response.json()\n",
    "    \n",
    "    # Filter data for date range using a list comprehension\n",
    "    filtered_data = [x for x in data if start_date <= x['date'] <= end_date]\n",
    "    \n",
    "    # Append filtered data to list\n",
    "    data_list.append(filtered_data)\n",
    "\n",
    "# Combine data from all URLs into a single list\n",
    "combined_data = [item for sublist in data_list for item in sublist]\n",
    "\n",
    "# Convert data to a Pandas data frame\n",
    "df = pd.DataFrame(combined_data)"
   ]
  },
  {
   "attachments": {},
   "cell_type": "markdown",
   "metadata": {},
   "source": [
    "In this modified code, you can use the configparser library to read the authentication credentials from a configuration file named config.ini.\n",
    "\n",
    "The configuration file contains a section called AUTH with two keys, Username and Password, that contain the authentication credentials.\n",
    "\n",
    "You can then fetch the data and filter it for the date range using a loop, as before, and combine it into a single list.\n",
    "\n",
    "Finally,You can create a Pandas data frame from the combined data using pd.DataFrame, as before."
   ]
  },
  {
   "cell_type": "code",
   "execution_count": null,
   "metadata": {},
   "outputs": [],
   "source": [
    "import requests\n",
    "import pandas as pd\n",
    "import configparser #Library used to fetch the configuration file that contains \n",
    "\n",
    "# Read authentication credentials from config file\n",
    "config = configparser.ConfigParser()\n",
    "config.read('config.ini')\n",
    "username = config['AUTH']['Username']\n",
    "password = config['AUTH']['Password']\n",
    "\n",
    "# Set date range\n",
    "start_date = '2022-01-01'\n",
    "end_date = '2022-01-31'\n",
    "\n",
    "# Define list of URLs to fetch data from\n",
    "urls = [\n",
    "    'https://api.example.com/data1',\n",
    "    'https://api.example.com/data2',\n",
    "    'https://api.example.com/data3'\n",
    "]\n",
    "\n",
    "# Initialize empty list to store fetched data\n",
    "data_list = []\n",
    "\n",
    "# Fetch data from all URLs and filter for date range\n",
    "for url in urls:\n",
    "    response = requests.get(url, auth=(username, password))\n",
    "    data = response.json()\n",
    "    \n",
    "    # Filter data for date range using a list comprehension\n",
    "    filtered_data = [x for x in data if start_date <= x['date'] <= end_date]\n",
    "    \n",
    "    # Append filtered data to list\n",
    "    data_list.append(filtered_data)\n",
    "\n",
    "# Combine data from all URLs into a single list\n",
    "combined_data = [item for sublist in data_list for item in sublist]\n",
    "\n",
    "# Convert data to a Pandas data frame\n",
    "df = pd.DataFrame(combined_data)\n"
   ]
  }
 ],
 "metadata": {
  "kernelspec": {
   "display_name": "base",
   "language": "python",
   "name": "python3"
  },
  "language_info": {
   "name": "python",
   "version": "3.9.7"
  },
  "orig_nbformat": 4
 },
 "nbformat": 4,
 "nbformat_minor": 2
}
